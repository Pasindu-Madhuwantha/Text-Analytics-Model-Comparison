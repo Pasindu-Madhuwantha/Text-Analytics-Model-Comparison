{
  "nbformat": 4,
  "nbformat_minor": 0,
  "metadata": {
    "colab": {
      "provenance": [],
      "gpuType": "T4",
      "include_colab_link": true
    },
    "kernelspec": {
      "name": "python3",
      "display_name": "Python 3"
    },
    "language_info": {
      "name": "python"
    },
    "accelerator": "GPU"
  },
  "cells": [
    {
      "cell_type": "markdown",
      "metadata": {
        "id": "view-in-github",
        "colab_type": "text"
      },
      "source": [
        "<a href=\"https://colab.research.google.com/github/Pasindu-Madhuwantha/Text-Analytics-Model-Comparison/blob/main/CMM706_%E2%80%93_Coursework_Final.ipynb\" target=\"_parent\"><img src=\"https://colab.research.google.com/assets/colab-badge.svg\" alt=\"Open In Colab\"/></a>"
      ]
    },
    {
      "cell_type": "markdown",
      "source": [],
      "metadata": {
        "id": "gkUmT4T7PhDe"
      }
    },
    {
      "cell_type": "markdown",
      "source": [
        "### CMM706 – Coursework 1\n",
        "#### July 2025\n",
        "\n",
        "Name  :  Pasindu Madhuwantha|\n",
        "IIT ID:  pasindu.20250028@iit.ac.lk|\n",
        "RGU ID:  p.madawala-gamage@rgu.ac.uk\n",
        "\n"
      ],
      "metadata": {
        "id": "K0UFwUcMPihM"
      }
    },
    {
      "cell_type": "markdown",
      "source": [
        "\n",
        "\n",
        "```\n",
        "# This is formatted as code\n",
        "```\n",
        "\n",
        "#Answer to Task 1\n"
      ],
      "metadata": {
        "id": "8hpTHNp0RMeG"
      }
    },
    {
      "cell_type": "markdown",
      "source": [],
      "metadata": {
        "id": "Ii_3PafN6Pbr"
      }
    },
    {
      "cell_type": "markdown",
      "source": [
        "#Step *1*  - Load and Inspect the Raw Data"
      ],
      "metadata": {
        "id": "hdhHG7LpR2b_"
      }
    },
    {
      "cell_type": "code",
      "source": [
        "import pandas as pd\n",
        "\n",
        "# Load the CSV file\n",
        "df = pd.read_csv(\"/content/drive/MyDrive/Hotel Reviews Data.csv\")  # replace with actual filename\n",
        "\n",
        "# Preview the dataset\n",
        "print(df.head())\n",
        "print(df.info())\n"
      ],
      "metadata": {
        "id": "bLtF1tUaR533",
        "colab": {
          "base_uri": "https://localhost:8080/"
        },
        "outputId": "691e734e-b9dc-4ad5-dbf1-bee61cc07b79"
      },
      "execution_count": null,
      "outputs": [
        {
          "output_type": "stream",
          "name": "stdout",
          "text": [
            "        Hotel Name                                        Review Body  Rating\n",
            "0  Fairway Colombo  Everything very good , best crew , good servic...     5.0\n",
            "1  Fairway Colombo  Great beds and super friendly staff, just were...     5.0\n",
            "2  Fairway Colombo  Excellent service at Fairyway colombo The room...     5.0\n",
            "3  Fairway Colombo  Very accommodating and clean. Recommended to e...     5.0\n",
            "4  Fairway Colombo  We just stayed for a night. The Rooms are dece...     3.0\n",
            "<class 'pandas.core.frame.DataFrame'>\n",
            "RangeIndex: 7637 entries, 0 to 7636\n",
            "Data columns (total 3 columns):\n",
            " #   Column       Non-Null Count  Dtype  \n",
            "---  ------       --------------  -----  \n",
            " 0   Hotel Name   7637 non-null   object \n",
            " 1   Review Body  7637 non-null   object \n",
            " 2   Rating       7636 non-null   float64\n",
            "dtypes: float64(1), object(2)\n",
            "memory usage: 179.1+ KB\n",
            "None\n"
          ]
        }
      ]
    },
    {
      "cell_type": "markdown",
      "source": [
        "#Step *2* -Clean the Data"
      ],
      "metadata": {
        "id": "KJ0GmTXfSIof"
      }
    },
    {
      "cell_type": "code",
      "source": [
        "# Drop rows with missing reviews or ratings\n",
        "df = df.dropna(subset=['Review Body', 'Rating'])\n",
        "\n",
        "# Convert ratings to integers (if needed)\n",
        "df['Rating'] = df['Rating'].astype(int)\n",
        "\n",
        "# Remove duplicates\n",
        "df = df.drop_duplicates()\n",
        "\n",
        "# Clean whitespace\n",
        "df['Review Body'] = df['Review Body'].str.strip()\n"
      ],
      "metadata": {
        "id": "iePTECjNw3iw",
        "colab": {
          "base_uri": "https://localhost:8080/"
        },
        "outputId": "cb5c1a18-216a-437f-adef-dd9b4829a80e"
      },
      "execution_count": null,
      "outputs": [
        {
          "output_type": "stream",
          "name": "stderr",
          "text": [
            "/tmp/ipython-input-28-514636382.py:5: SettingWithCopyWarning: \n",
            "A value is trying to be set on a copy of a slice from a DataFrame.\n",
            "Try using .loc[row_indexer,col_indexer] = value instead\n",
            "\n",
            "See the caveats in the documentation: https://pandas.pydata.org/pandas-docs/stable/user_guide/indexing.html#returning-a-view-versus-a-copy\n",
            "  df['Rating'] = df['Rating'].astype(int)\n"
          ]
        }
      ]
    },
    {
      "cell_type": "markdown",
      "source": [
        "#Step 3 - Describe the Raw and Cleaned Dataset"
      ],
      "metadata": {
        "id": "p2SLhaELTDGs"
      }
    },
    {
      "cell_type": "code",
      "source": [
        "# Number of hotels\n",
        "num_hotels = df['Hotel Name'].nunique()\n",
        "\n",
        "# Reviews per hotel\n",
        "reviews_per_hotel = df['Hotel Name'].value_counts()\n",
        "\n",
        "# Total number of reviews\n",
        "total_reviews = len(df)\n",
        "\n",
        "# Word count in each review\n",
        "df['Word Count'] = df['Review Body'].apply(lambda x: len(str(x).split()))\n",
        "\n",
        "# Total words in the entire corpus\n",
        "total_words = df['Word Count'].sum()\n",
        "\n",
        "# Unique words\n",
        "from collections import Counter\n",
        "import nltk\n",
        "nltk.download('punkt')\n",
        "\n",
        "all_words = ' '.join(df['Review Body'].astype(str)).lower().split()\n",
        "unique_words = set(all_words)\n",
        "\n",
        "print(f\"Number of Hotels: {num_hotels}\")\n",
        "print(f\"Total Reviews: {total_reviews}\")\n",
        "print(f\"Total Words: {total_words}\")\n",
        "print(f\"Unique Words: {len(unique_words)}\")\n"
      ],
      "metadata": {
        "colab": {
          "base_uri": "https://localhost:8080/"
        },
        "id": "mLgokhpsTF-7",
        "outputId": "1b9d8c24-2d3c-4ce1-88dc-2306f09ee636"
      },
      "execution_count": null,
      "outputs": [
        {
          "output_type": "stream",
          "name": "stderr",
          "text": [
            "[nltk_data] Downloading package punkt to /root/nltk_data...\n",
            "[nltk_data]   Package punkt is already up-to-date!\n"
          ]
        },
        {
          "output_type": "stream",
          "name": "stdout",
          "text": [
            "Number of Hotels: 100\n",
            "Total Reviews: 7629\n",
            "Total Words: 704698\n",
            "Unique Words: 35187\n"
          ]
        }
      ]
    },
    {
      "cell_type": "markdown",
      "source": [
        "#Step 4 - Histogram of Review Lengths"
      ],
      "metadata": {
        "id": "coYMVzeQ0bzc"
      }
    },
    {
      "cell_type": "code",
      "source": [
        "import matplotlib.pyplot as plt\n",
        "\n",
        "plt.figure(figsize=(10,6))\n",
        "df['Word Count'].hist(bins=50, color='skyblue', edgecolor='black')\n",
        "plt.title('Histogram of Review Lengths (in Words)')\n",
        "plt.xlabel('Number of Words')\n",
        "plt.ylabel('Number of Reviews')\n",
        "plt.grid(False)\n",
        "plt.show()\n"
      ],
      "metadata": {
        "colab": {
          "base_uri": "https://localhost:8080/",
          "height": 564
        },
        "id": "9KfazQ1I0hZb",
        "outputId": "43c85757-d18b-4f46-9ec9-a9b6b0940759"
      },
      "execution_count": null,
      "outputs": [
        {
          "output_type": "display_data",
          "data": {
            "text/plain": [
              "<Figure size 1000x600 with 1 Axes>"
            ],
            "image/png": "[encoded data removed]"
          },
          "metadata": {}
        }
      ]
    },
    {
      "cell_type": "markdown",
      "source": [
        "#Step 5 - EDA Ideas"
      ],
      "metadata": {
        "id": "4ummIAb20vlG"
      }
    },
    {
      "cell_type": "markdown",
      "source": [
        "Rating Distribution:"
      ],
      "metadata": {
        "id": "Hc_xdcI50zjC"
      }
    },
    {
      "cell_type": "code",
      "source": [
        "df['Rating'].value_counts().sort_index().plot(kind='bar', color='orange')\n",
        "plt.title('Rating Distribution')\n",
        "plt.xlabel('Rating')\n",
        "plt.ylabel('Number of Reviews')\n",
        "plt.show()\n"
      ],
      "metadata": {
        "colab": {
          "base_uri": "https://localhost:8080/",
          "height": 467
        },
        "id": "6VWZdXYh0qUI",
        "outputId": "78b8f68c-70ce-4b4d-847b-4b1783d6c4be"
      },
      "execution_count": null,
      "outputs": [
        {
          "output_type": "display_data",
          "data": {
            "text/plain": [
              "<Figure size 640x480 with 1 Axes>"
            ],
            "image/png": "[encoded data removed]"
          },
          "metadata": {}
        }
      ]
    },
    {
      "cell_type": "markdown",
      "source": [
        "Top 10 Most Reviewed Hotels"
      ],
      "metadata": {
        "id": "4NDMZ1XK09c7"
      }
    },
    {
      "cell_type": "code",
      "source": [
        "reviews_per_hotel.head(10).plot(kind='barh', color='green')\n",
        "plt.title('Top 10 Most Reviewed Hotels')\n",
        "plt.xlabel('Number of Reviews')\n",
        "plt.gca().invert_yaxis()\n",
        "plt.show()\n"
      ],
      "metadata": {
        "colab": {
          "base_uri": "https://localhost:8080/",
          "height": 472
        },
        "id": "GCREUVd806p8",
        "outputId": "c0876148-ba78-48d4-f381-bd7c3afca814"
      },
      "execution_count": null,
      "outputs": [
        {
          "output_type": "display_data",
          "data": {
            "text/plain": [
              "<Figure size 640x480 with 1 Axes>"
            ],
            "image/png": "[encoded data removed]"
          },
          "metadata": {}
        }
      ]
    },
    {
      "cell_type": "markdown",
      "source": [
        "Average Review Length per Hotel"
      ],
      "metadata": {
        "id": "ktlpcakC1FaH"
      }
    },
    {
      "cell_type": "code",
      "source": [
        "avg_length = df.groupby('Hotel Name')['Word Count'].mean().sort_values(ascending=False)\n",
        "print(avg_length)"
      ],
      "metadata": {
        "colab": {
          "base_uri": "https://localhost:8080/"
        },
        "id": "CF9UQ4A21IMY",
        "outputId": "2e9c97bc-7f75-40b3-9ec8-1b3b1d5f8b4d"
      },
      "execution_count": null,
      "outputs": [
        {
          "output_type": "stream",
          "name": "stdout",
          "text": [
            "Hotel Name\n",
            "Joes Resort Unawatuna         153.925000\n",
            "Beach Grove Villas            149.250000\n",
            "Good Vibes Villas Retreat     143.275000\n",
            "Villa Gaetano                 140.112500\n",
            "Thambapanni Retreat           134.325000\n",
            "                                 ...    \n",
            "Araliya Beach Resort & Spa     57.012500\n",
            "Radisson Hotel Colombo         56.125000\n",
            "Ramada by Wyndham Colombo      55.750000\n",
            "Sheraton Colombo Hotel         55.582278\n",
            "Port View City Hotel           53.687500\n",
            "Name: Word Count, Length: 100, dtype: float64\n"
          ]
        }
      ]
    },
    {
      "cell_type": "markdown",
      "source": [
        "#Answer to Task 2\n"
      ],
      "metadata": {
        "id": "8LbE5sDf4A-A"
      }
    },
    {
      "cell_type": "markdown",
      "source": [
        "###Step 1"
      ],
      "metadata": {
        "id": "JKFCQ5Te4C7G"
      }
    },
    {
      "cell_type": "code",
      "source": [
        "pip install nltk textblob transformers torch"
      ],
      "metadata": {
        "colab": {
          "base_uri": "https://localhost:8080/"
        },
        "id": "FX3OA1Ot5EW6",
        "outputId": "22c35dab-d21e-49f8-d7ec-3d4c443323f9"
      },
      "execution_count": null,
      "outputs": [
        {
          "output_type": "stream",
          "name": "stdout",
          "text": [
            "Requirement already satisfied: nltk in /usr/local/lib/python3.11/dist-packages (3.9.1)\n",
            "Requirement already satisfied: textblob in /usr/local/lib/python3.11/dist-packages (0.19.0)\n",
            "Requirement already satisfied: transformers in /usr/local/lib/python3.11/dist-packages (4.53.0)\n",
            "Requirement already satisfied: torch in /usr/local/lib/python3.11/dist-packages (2.6.0+cu124)\n",
            "Requirement already satisfied: click in /usr/local/lib/python3.11/dist-packages (from nltk) (8.2.1)\n",
            "Requirement already satisfied: joblib in /usr/local/lib/python3.11/dist-packages (from nltk) (1.5.1)\n",
            "Requirement already satisfied: regex>=2021.8.3 in /usr/local/lib/python3.11/dist-packages (from nltk) (2024.11.6)\n",
            "Requirement already satisfied: tqdm in /usr/local/lib/python3.11/dist-packages (from nltk) (4.67.1)\n",
            "Requirement already satisfied: filelock in /usr/local/lib/python3.11/dist-packages (from transformers) (3.18.0)\n",
            "Requirement already satisfied: huggingface-hub<1.0,>=0.30.0 in /usr/local/lib/python3.11/dist-packages (from transformers) (0.33.1)\n",
            "Requirement already satisfied: numpy>=1.17 in /usr/local/lib/python3.11/dist-packages (from transformers) (1.26.4)\n",
            "Requirement already satisfied: packaging>=20.0 in /usr/local/lib/python3.11/dist-packages (from transformers) (24.2)\n",
            "Requirement already satisfied: pyyaml>=5.1 in /usr/local/lib/python3.11/dist-packages (from transformers) (6.0.2)\n",
            "Requirement already satisfied: requests in /usr/local/lib/python3.11/dist-packages (from transformers) (2.32.3)\n",
            "Requirement already satisfied: tokenizers<0.22,>=0.21 in /usr/local/lib/python3.11/dist-packages (from transformers) (0.21.2)\n",
            "Requirement already satisfied: safetensors>=0.4.3 in /usr/local/lib/python3.11/dist-packages (from transformers) (0.5.3)\n",
            "Requirement already satisfied: typing-extensions>=4.10.0 in /usr/local/lib/python3.11/dist-packages (from torch) (4.14.0)\n",
            "Requirement already satisfied: networkx in /usr/local/lib/python3.11/dist-packages (from torch) (3.5)\n",
            "Requirement already satisfied: jinja2 in /usr/local/lib/python3.11/dist-packages (from torch) (3.1.6)\n",
            "Requirement already satisfied: fsspec in /usr/local/lib/python3.11/dist-packages (from torch) (2025.3.2)\n",
            "Requirement already satisfied: nvidia-cuda-nvrtc-cu12==12.4.127 in /usr/local/lib/python3.11/dist-packages (from torch) (12.4.127)\n",
            "Requirement already satisfied: nvidia-cuda-runtime-cu12==12.4.127 in /usr/local/lib/python3.11/dist-packages (from torch) (12.4.127)\n",
            "Requirement already satisfied: nvidia-cuda-cupti-cu12==12.4.127 in /usr/local/lib/python3.11/dist-packages (from torch) (12.4.127)\n",
            "Requirement already satisfied: nvidia-cudnn-cu12==9.1.0.70 in /usr/local/lib/python3.11/dist-packages (from torch) (9.1.0.70)\n",
            "Requirement already satisfied: nvidia-cublas-cu12==12.4.5.8 in /usr/local/lib/python3.11/dist-packages (from torch) (12.4.5.8)\n",
            "Requirement already satisfied: nvidia-cufft-cu12==11.2.1.3 in /usr/local/lib/python3.11/dist-packages (from torch) (11.2.1.3)\n",
            "Requirement already satisfied: nvidia-curand-cu12==10.3.5.147 in /usr/local/lib/python3.11/dist-packages (from torch) (10.3.5.147)\n",
            "Requirement already satisfied: nvidia-cusolver-cu12==11.6.1.9 in /usr/local/lib/python3.11/dist-packages (from torch) (11.6.1.9)\n",
            "Requirement already satisfied: nvidia-cusparse-cu12==12.3.1.170 in /usr/local/lib/python3.11/dist-packages (from torch) (12.3.1.170)\n",
            "Requirement already satisfied: nvidia-cusparselt-cu12==0.6.2 in /usr/local/lib/python3.11/dist-packages (from torch) (0.6.2)\n",
            "Requirement already satisfied: nvidia-nccl-cu12==2.21.5 in /usr/local/lib/python3.11/dist-packages (from torch) (2.21.5)\n",
            "Requirement already satisfied: nvidia-nvtx-cu12==12.4.127 in /usr/local/lib/python3.11/dist-packages (from torch) (12.4.127)\n",
            "Requirement already satisfied: nvidia-nvjitlink-cu12==12.4.127 in /usr/local/lib/python3.11/dist-packages (from torch) (12.4.127)\n",
            "Requirement already satisfied: triton==3.2.0 in /usr/local/lib/python3.11/dist-packages (from torch) (3.2.0)\n",
            "Requirement already satisfied: sympy==1.13.1 in /usr/local/lib/python3.11/dist-packages (from torch) (1.13.1)\n",
            "Requirement already satisfied: mpmath<1.4,>=1.1.0 in /usr/local/lib/python3.11/dist-packages (from sympy==1.13.1->torch) (1.3.0)\n",
            "Requirement already satisfied: hf-xet<2.0.0,>=1.1.2 in /usr/local/lib/python3.11/dist-packages (from huggingface-hub<1.0,>=0.30.0->transformers) (1.1.5)\n",
            "Requirement already satisfied: MarkupSafe>=2.0 in /usr/local/lib/python3.11/dist-packages (from jinja2->torch) (3.0.2)\n",
            "Requirement already satisfied: charset-normalizer<4,>=2 in /usr/local/lib/python3.11/dist-packages (from requests->transformers) (3.4.2)\n",
            "Requirement already satisfied: idna<4,>=2.5 in /usr/local/lib/python3.11/dist-packages (from requests->transformers) (3.10)\n",
            "Requirement already satisfied: urllib3<3,>=1.21.1 in /usr/local/lib/python3.11/dist-packages (from requests->transformers) (2.4.0)\n",
            "Requirement already satisfied: certifi>=2017.4.17 in /usr/local/lib/python3.11/dist-packages (from requests->transformers) (2025.6.15)\n"
          ]
        }
      ]
    },
    {
      "cell_type": "markdown",
      "source": [],
      "metadata": {
        "id": "9dqKHe6T-w5O"
      }
    },
    {
      "cell_type": "markdown",
      "source": [
        "###Step 2: Import and Prepare"
      ],
      "metadata": {
        "id": "zTR1tj3Z-3Lk"
      }
    },
    {
      "cell_type": "code",
      "source": [
        "import pandas as pd\n",
        "import nltk\n",
        "from textblob import TextBlob\n",
        "from nltk.sentiment import SentimentIntensityAnalyzer\n",
        "from transformers import pipeline\n",
        "\n",
        "# Download VADER lexicon\n",
        "nltk.download('vader_lexicon')\n",
        "\n",
        "# Load your dataset\n",
        "df = pd.read_csv(\"/content/drive/MyDrive/Hotel Reviews Data.csv\")\n",
        "df = df.dropna(subset=['Review Body']).copy()\n"
      ],
      "metadata": {
        "colab": {
          "base_uri": "https://localhost:8080/"
        },
        "id": "f2ftsVyuAmSa",
        "outputId": "385c0f3e-3800-4709-8c67-bfa73718b9c4"
      },
      "execution_count": null,
      "outputs": [
        {
          "output_type": "stream",
          "name": "stderr",
          "text": [
            "[nltk_data] Downloading package vader_lexicon to /root/nltk_data...\n",
            "[nltk_data]   Package vader_lexicon is already up-to-date!\n"
          ]
        }
      ]
    },
    {
      "cell_type": "markdown",
      "source": [
        "###Step 3: Apply the 3 Sentiment Classifiers"
      ],
      "metadata": {
        "id": "zW-UyNjsA2tH"
      }
    },
    {
      "cell_type": "markdown",
      "source": [
        "1. VADER (Lexicon-based)"
      ],
      "metadata": {
        "id": "L54AJuyXA8aI"
      }
    },
    {
      "cell_type": "code",
      "source": [
        "sia = SentimentIntensityAnalyzer()\n",
        "\n",
        "def vader_sentiment(text):\n",
        "    score = sia.polarity_scores(text)['compound']\n",
        "    if score >= 0.05:\n",
        "        return 'positive'\n",
        "    elif score <= -0.05:\n",
        "        return 'negative'\n",
        "    else:\n",
        "        return 'neutral'\n",
        "\n",
        "df['VADER'] = df['Review Body'].apply(vader_sentiment)\n"
      ],
      "metadata": {
        "id": "VCl2zzBpA6RS"
      },
      "execution_count": null,
      "outputs": []
    },
    {
      "cell_type": "markdown",
      "source": [
        "2. TextBlob"
      ],
      "metadata": {
        "id": "X2ikd7_QLeLm"
      }
    },
    {
      "cell_type": "code",
      "source": [
        "def textblob_sentiment(text):\n",
        "    score = TextBlob(text).sentiment.polarity\n",
        "    if score > 0.05:\n",
        "        return 'positive'\n",
        "    elif score < -0.05:\n",
        "        return 'negative'\n",
        "    else:\n",
        "        return 'neutral'\n",
        "\n",
        "df['TextBlob'] = df['Review Body'].apply(textblob_sentiment)\n"
      ],
      "metadata": {
        "id": "-HBS0nDgLe7_"
      },
      "execution_count": null,
      "outputs": []
    },
    {
      "cell_type": "markdown",
      "source": [
        " 3. Transformer-based Model (HuggingFace)"
      ],
      "metadata": {
        "id": "F2SsqSxLMSeG"
      }
    },
    {
      "cell_type": "code",
      "source": [
        "from transformers import pipeline\n",
        "import torch\n",
        "\n",
        "# Load the model\n",
        "classifier = pipeline(\"sentiment-analysis\", model=\"distilbert-base-uncased-finetuned-sst-2-english\")\n",
        "\n",
        "def transformer_sentiment(text):\n",
        "    result = classifier(text[:512])[0]  # Truncate to 512 tokens\n",
        "    return 'positive' if result['label'] == 'POSITIVE' else 'negative'\n",
        "\n",
        "df['Transformer'] = df['Review Body'].apply(transformer_sentiment)\n"
      ],
      "metadata": {
        "colab": {
          "base_uri": "https://localhost:8080/"
        },
        "id": "5Eg2vgEsMVsE",
        "outputId": "b9f85445-9845-4ac2-b6a1-26a3e8657693"
      },
      "execution_count": null,
      "outputs": [
        {
          "output_type": "stream",
          "name": "stderr",
          "text": [
            "Device set to use cuda:0\n"
          ]
        }
      ]
    },
    {
      "cell_type": "markdown",
      "source": [
        "###Step 4: Majority Voting"
      ],
      "metadata": {
        "id": "tA28eppGOkqL"
      }
    },
    {
      "cell_type": "code",
      "source": [
        "from collections import Counter\n",
        "\n",
        "def majority_vote(row):\n",
        "    votes = [row['VADER'], row['TextBlob'], row['Transformer']]\n",
        "    most_common = Counter(votes).most_common(1)[0][0]\n",
        "    return most_common\n",
        "\n",
        "df['Final Sentiment'] = df.apply(majority_vote, axis=1)\n"
      ],
      "metadata": {
        "id": "VZ3S2lrkOqMu"
      },
      "execution_count": null,
      "outputs": []
    },
    {
      "cell_type": "markdown",
      "source": [
        "###Step 5: Analyze the Results"
      ],
      "metadata": {
        "id": "vGTq6nh6OuPA"
      }
    },
    {
      "cell_type": "code",
      "source": [
        "print(df['Final Sentiment'].value_counts())\n",
        "\n",
        "# Optional: Save the dataset with labels\n",
        "df.to_csv(\"labeled_reviews.csv\", index=False)\n"
      ],
      "metadata": {
        "id": "WIwnAfjROwRu",
        "colab": {
          "base_uri": "https://localhost:8080/"
        },
        "outputId": "3586891a-964f-4673-e22e-2ef46b4f504b"
      },
      "execution_count": null,
      "outputs": [
        {
          "output_type": "stream",
          "name": "stdout",
          "text": [
            "Final Sentiment\n",
            "positive    7391\n",
            "negative     232\n",
            "neutral       14\n",
            "Name: count, dtype: int64\n"
          ]
        }
      ]
    },
    {
      "cell_type": "markdown",
      "source": [
        "#Answer to Task 3"
      ],
      "metadata": {
        "id": "Dhix531uLY1-"
      }
    },
    {
      "cell_type": "markdown",
      "source": [
        " Step 1: Sparse Vector Representations"
      ],
      "metadata": {
        "id": "DwX8rAIgPIhG"
      }
    },
    {
      "cell_type": "markdown",
      "source": [
        "1.1: CountVectorizer (Bag of Words)"
      ],
      "metadata": {
        "id": "FM87QpJOPydG"
      }
    },
    {
      "cell_type": "code",
      "source": [
        "from sklearn.feature_extraction.text import CountVectorizer\n",
        "\n",
        "count_vec = CountVectorizer(max_features=1000)  # Top 1000 frequent words\n",
        "X_count = count_vec.fit_transform(df['Review Body'])\n",
        "\n",
        "print(\"CountVectorizer shape:\", X_count.shape)\n"
      ],
      "metadata": {
        "id": "C6pXsVxsPM98",
        "colab": {
          "base_uri": "https://localhost:8080/"
        },
        "outputId": "3f046002-76d9-4dde-da3c-a3843c06adae"
      },
      "execution_count": null,
      "outputs": [
        {
          "output_type": "stream",
          "name": "stdout",
          "text": [
            "CountVectorizer shape: (7637, 1000)\n"
          ]
        }
      ]
    },
    {
      "cell_type": "markdown",
      "source": [
        "✅ Justification: CountVectorizer captures term frequency. Simple, interpretable, and fast."
      ],
      "metadata": {
        "id": "0JA5Pk4V8oD6"
      }
    },
    {
      "cell_type": "markdown",
      "source": [
        "1.2: TF-IDF Vectorizer"
      ],
      "metadata": {
        "id": "haqcgCrJP3_W"
      }
    },
    {
      "cell_type": "code",
      "source": [
        "from sklearn.feature_extraction.text import TfidfVectorizer\n",
        "\n",
        "tfidf_vec = TfidfVectorizer(max_features=1000)\n",
        "X_tfidf = tfidf_vec.fit_transform(df['Review Body'])\n",
        "\n",
        "print(\"TF-IDF shape:\", X_tfidf.shape)\n"
      ],
      "metadata": {
        "id": "FVoNT9I9P6Wl",
        "colab": {
          "base_uri": "https://localhost:8080/"
        },
        "outputId": "96eb7a78-7c19-40f7-bc80-76f251861ca0"
      },
      "execution_count": null,
      "outputs": [
        {
          "output_type": "stream",
          "name": "stdout",
          "text": [
            "TF-IDF shape: (7637, 1000)\n"
          ]
        }
      ]
    },
    {
      "cell_type": "markdown",
      "source": [
        "✅ Justification: TF-IDF gives more weight to informative words. It downweighs common words."
      ],
      "metadata": {
        "id": "Wg2SA4Wl8uTq"
      }
    },
    {
      "cell_type": "markdown",
      "source": [
        "Step 2: Dense Vector Representations"
      ],
      "metadata": {
        "id": "-k_KPyR7QQTv"
      }
    },
    {
      "cell_type": "markdown",
      "source": [
        "2.1: Doc2Vec (using Gensim)"
      ],
      "metadata": {
        "id": "rhNXjHvQQVxa"
      }
    },
    {
      "cell_type": "code",
      "source": [
        "#pip install gensim"
      ],
      "metadata": {
        "id": "_vZ5sUg2Qnr-"
      },
      "execution_count": null,
      "outputs": []
    },
    {
      "cell_type": "code",
      "source": [
        "import gensim\n",
        "from gensim.models.doc2vec import Doc2Vec, TaggedDocument\n",
        "\n",
        "# Prepare tagged documents\n",
        "documents = [TaggedDocument(words=str(row).lower().split(), tags=[i]) for i, row in enumerate(df['Review Body'])]\n",
        "\n",
        "# Train a Doc2Vec model\n",
        "model = Doc2Vec(documents, vector_size=100, window=5, min_count=2, workers=4, epochs=20)\n",
        "\n",
        "# Generate dense vectors for each document\n",
        "X_doc2vec = [model.infer_vector(doc.words) for doc in documents]\n",
        "\n",
        "import numpy as np\n",
        "X_doc2vec = np.array(X_doc2vec)\n",
        "\n",
        "print(\"Doc2Vec shape:\", X_doc2vec.shape)\n"
      ],
      "metadata": {
        "id": "eVg3GZ5uQWoa",
        "colab": {
          "base_uri": "https://localhost:8080/"
        },
        "outputId": "ae499094-d733-45c0-f684-b9dc6e426f75"
      },
      "execution_count": null,
      "outputs": [
        {
          "output_type": "stream",
          "name": "stdout",
          "text": [
            "Doc2Vec shape: (7637, 100)\n"
          ]
        }
      ]
    },
    {
      "cell_type": "markdown",
      "source": [
        "✅ Justification: Doc2Vec captures semantic meaning of the full document in a dense 100-d vector. Good for deep models."
      ],
      "metadata": {
        "id": "IbRkkaeB80N9"
      }
    },
    {
      "cell_type": "markdown",
      "source": [
        "2.2: Average Word2Vec (Gensim Pre-trained)"
      ],
      "metadata": {
        "id": "ANUwYZ0QRNMK"
      }
    },
    {
      "cell_type": "code",
      "source": [
        "import gensim.downloader as api\n",
        "\n",
        "# Load pre-trained Word2Vec (Google News or Glove)\n",
        "w2v_model = api.load(\"glove-wiki-gigaword-100\")  # Vector size = 100\n",
        "\n",
        "# Function to average word embeddings\n",
        "def avg_w2v(text):\n",
        "    words = str(text).lower().split()\n",
        "    vecs = [w2v_model[word] for word in words if word in w2v_model]\n",
        "    return np.mean(vecs, axis=0) if vecs else np.zeros(100)\n",
        "\n",
        "X_avgw2v = np.vstack(df['Review Body'].apply(avg_w2v).values)\n",
        "\n",
        "print(\"Average Word2Vec shape:\", X_avgw2v.shape)\n"
      ],
      "metadata": {
        "id": "mRQajibeRO6u",
        "colab": {
          "base_uri": "https://localhost:8080/"
        },
        "outputId": "12257a31-5ea9-4d9a-c0d9-065d05750112"
      },
      "execution_count": null,
      "outputs": [
        {
          "output_type": "stream",
          "name": "stdout",
          "text": [
            "Average Word2Vec shape: (7637, 100)\n"
          ]
        }
      ]
    },
    {
      "cell_type": "markdown",
      "source": [
        "✅ Justification: Averaging word vectors creates a smooth, compact representation of text. Fast and effective for many tasks."
      ],
      "metadata": {
        "id": "WWPfaZdB84Oi"
      }
    },
    {
      "cell_type": "markdown",
      "source": [
        "#Answer to Task 4"
      ],
      "metadata": {
        "id": "2cvaCssUUzP7"
      }
    },
    {
      "cell_type": "markdown",
      "source": [
        "Step 1: Summary of Feature Types"
      ],
      "metadata": {
        "id": "PSQkcoPGU2kY"
      }
    },
    {
      "cell_type": "code",
      "source": [
        "y = df['Final Sentiment']  # Sentiment labels: positive, negative, neutral\n",
        "print(y.value_counts())"
      ],
      "metadata": {
        "id": "JmnBuEaVU4Zk",
        "colab": {
          "base_uri": "https://localhost:8080/"
        },
        "outputId": "18360d40-41e5-4936-d865-15538104f6aa"
      },
      "execution_count": null,
      "outputs": [
        {
          "output_type": "stream",
          "name": "stdout",
          "text": [
            "Final Sentiment\n",
            "positive    7391\n",
            "negative     232\n",
            "neutral       14\n",
            "Name: count, dtype: int64\n"
          ]
        }
      ]
    },
    {
      "cell_type": "markdown",
      "source": [],
      "metadata": {
        "id": "0zTF8ig6WpGu"
      }
    },
    {
      "cell_type": "markdown",
      "source": [
        "Step 2: Choose 3 Non-Deep Learning Classifiers"
      ],
      "metadata": {
        "id": "vacKnCMqWjMJ"
      }
    },
    {
      "cell_type": "markdown",
      "source": [
        "| Model                       | Type                  | Why it’s chosen                |\n",
        "| --------------------------- | --------------------- | ------------------------------ |\n",
        "| **Multinomial Naive Bayes** | Probabilistic, fast   | Best with sparse count/TF-IDF  |\n",
        "| **Logistic Regression**     | Linear, interpretable | Handles sparse + dense, stable |\n",
        "| **Random Forest**           | Ensemble, non-linear  | Handles complex data patterns  |\n"
      ],
      "metadata": {
        "id": "tMY0FKcRW1tZ"
      }
    },
    {
      "cell_type": "markdown",
      "source": [
        "Step 3: Training + Evaluation Pipeline"
      ],
      "metadata": {
        "id": "fjbPN6TaXh0_"
      }
    },
    {
      "cell_type": "code",
      "source": [
        "from sklearn.model_selection import train_test_split\n",
        "from sklearn.naive_bayes import MultinomialNB\n",
        "from sklearn.linear_model import LogisticRegression\n",
        "from sklearn.ensemble import RandomForestClassifier\n",
        "from sklearn.metrics import classification_report, confusion_matrix\n",
        "\n",
        "def evaluate_model(X, y, model, model_name, feature_name):\n",
        "    print(f\"\\n🔹 Evaluating {model_name} with {feature_name} features\")\n",
        "\n",
        "    # Train/Test Split\n",
        "    X_train, X_test, y_train, y_test = train_test_split(X, y, test_size=0.2, random_state=42)\n",
        "\n",
        "    # Fit and Predict\n",
        "    model.fit(X_train, y_train)\n",
        "    y_pred = model.predict(X_test)\n",
        "\n",
        "    # Metrics\n",
        "    print(classification_report(y_test, y_pred))\n",
        "    print(\"Confusion Matrix:\\n\", confusion_matrix(y_test, y_pred))\n"
      ],
      "metadata": {
        "id": "oL27a5thXlgj"
      },
      "execution_count": null,
      "outputs": []
    },
    {
      "cell_type": "markdown",
      "source": [
        " Step 4: Run Models on All Feature Sets"
      ],
      "metadata": {
        "id": "HEyHAvNSXwvg"
      }
    },
    {
      "cell_type": "markdown",
      "source": [
        "Sparse Features:"
      ],
      "metadata": {
        "id": "lHUi5yk3YY5G"
      }
    },
    {
      "cell_type": "code",
      "source": [
        "# Naive Bayes works best with count/tfidf (not with dense vectors!)\n",
        "evaluate_model(X_count, y, MultinomialNB(), \"MultinomialNB\", \"CountVectorizer\")\n",
        "evaluate_model(X_tfidf, y, MultinomialNB(), \"MultinomialNB\", \"TF-IDF\")\n",
        "evaluate_model(X_count, y, LogisticRegression(max_iter=1000), \"Logistic Regression\", \"CountVectorizer\")\n",
        "evaluate_model(X_tfidf, y, LogisticRegression(max_iter=1000), \"Logistic Regression\", \"TF-IDF\")\n",
        "evaluate_model(X_count, y, RandomForestClassifier(), \"Random Forest\", \"CountVectorizer\")\n",
        "evaluate_model(X_tfidf, y, RandomForestClassifier(), \"Random Forest\", \"TF-IDF\")\n"
      ],
      "metadata": {
        "id": "AKZG-5QkXzko",
        "colab": {
          "base_uri": "https://localhost:8080/"
        },
        "outputId": "5b58b991-12a5-4a05-9eaa-27e4d9b25ebf"
      },
      "execution_count": null,
      "outputs": [
        {
          "output_type": "stream",
          "name": "stdout",
          "text": [
            "\n",
            "🔹 Evaluating MultinomialNB with CountVectorizer features\n",
            "              precision    recall  f1-score   support\n",
            "\n",
            "    negative       0.44      0.88      0.59        50\n",
            "     neutral       0.00      0.00      0.00         4\n",
            "    positive       0.99      0.96      0.98      1474\n",
            "\n",
            "    accuracy                           0.96      1528\n",
            "   macro avg       0.48      0.61      0.52      1528\n",
            "weighted avg       0.97      0.96      0.96      1528\n",
            "\n",
            "Confusion Matrix:\n",
            " [[  44    0    6]\n",
            " [   2    0    2]\n",
            " [  53    1 1420]]\n",
            "\n",
            "🔹 Evaluating MultinomialNB with TF-IDF features\n",
            "              precision    recall  f1-score   support\n",
            "\n",
            "    negative       0.00      0.00      0.00        50\n",
            "     neutral       0.00      0.00      0.00         4\n",
            "    positive       0.96      1.00      0.98      1474\n",
            "\n",
            "    accuracy                           0.96      1528\n",
            "   macro avg       0.32      0.33      0.33      1528\n",
            "weighted avg       0.93      0.96      0.95      1528\n",
            "\n",
            "Confusion Matrix:\n",
            " [[   0    0   50]\n",
            " [   0    0    4]\n",
            " [   0    0 1474]]\n",
            "\n",
            "🔹 Evaluating Logistic Regression with CountVectorizer features\n"
          ]
        },
        {
          "output_type": "stream",
          "name": "stderr",
          "text": [
            "/usr/local/lib/python3.11/dist-packages/sklearn/metrics/_classification.py:1565: UndefinedMetricWarning: Precision is ill-defined and being set to 0.0 in labels with no predicted samples. Use `zero_division` parameter to control this behavior.\n",
            "  _warn_prf(average, modifier, f\"{metric.capitalize()} is\", len(result))\n",
            "/usr/local/lib/python3.11/dist-packages/sklearn/metrics/_classification.py:1565: UndefinedMetricWarning: Precision is ill-defined and being set to 0.0 in labels with no predicted samples. Use `zero_division` parameter to control this behavior.\n",
            "  _warn_prf(average, modifier, f\"{metric.capitalize()} is\", len(result))\n",
            "/usr/local/lib/python3.11/dist-packages/sklearn/metrics/_classification.py:1565: UndefinedMetricWarning: Precision is ill-defined and being set to 0.0 in labels with no predicted samples. Use `zero_division` parameter to control this behavior.\n",
            "  _warn_prf(average, modifier, f\"{metric.capitalize()} is\", len(result))\n",
            "/usr/local/lib/python3.11/dist-packages/sklearn/metrics/_classification.py:1565: UndefinedMetricWarning: Precision is ill-defined and being set to 0.0 in labels with no predicted samples. Use `zero_division` parameter to control this behavior.\n",
            "  _warn_prf(average, modifier, f\"{metric.capitalize()} is\", len(result))\n",
            "/usr/local/lib/python3.11/dist-packages/sklearn/metrics/_classification.py:1565: UndefinedMetricWarning: Precision is ill-defined and being set to 0.0 in labels with no predicted samples. Use `zero_division` parameter to control this behavior.\n",
            "  _warn_prf(average, modifier, f\"{metric.capitalize()} is\", len(result))\n",
            "/usr/local/lib/python3.11/dist-packages/sklearn/metrics/_classification.py:1565: UndefinedMetricWarning: Precision is ill-defined and being set to 0.0 in labels with no predicted samples. Use `zero_division` parameter to control this behavior.\n",
            "  _warn_prf(average, modifier, f\"{metric.capitalize()} is\", len(result))\n",
            "/usr/local/lib/python3.11/dist-packages/sklearn/metrics/_classification.py:1565: UndefinedMetricWarning: Precision is ill-defined and being set to 0.0 in labels with no predicted samples. Use `zero_division` parameter to control this behavior.\n",
            "  _warn_prf(average, modifier, f\"{metric.capitalize()} is\", len(result))\n",
            "/usr/local/lib/python3.11/dist-packages/sklearn/metrics/_classification.py:1565: UndefinedMetricWarning: Precision is ill-defined and being set to 0.0 in labels with no predicted samples. Use `zero_division` parameter to control this behavior.\n",
            "  _warn_prf(average, modifier, f\"{metric.capitalize()} is\", len(result))\n",
            "/usr/local/lib/python3.11/dist-packages/sklearn/metrics/_classification.py:1565: UndefinedMetricWarning: Precision is ill-defined and being set to 0.0 in labels with no predicted samples. Use `zero_division` parameter to control this behavior.\n",
            "  _warn_prf(average, modifier, f\"{metric.capitalize()} is\", len(result))\n"
          ]
        },
        {
          "output_type": "stream",
          "name": "stdout",
          "text": [
            "              precision    recall  f1-score   support\n",
            "\n",
            "    negative       0.74      0.56      0.64        50\n",
            "     neutral       0.00      0.00      0.00         4\n",
            "    positive       0.98      0.99      0.99      1474\n",
            "\n",
            "    accuracy                           0.98      1528\n",
            "   macro avg       0.57      0.52      0.54      1528\n",
            "weighted avg       0.97      0.98      0.97      1528\n",
            "\n",
            "Confusion Matrix:\n",
            " [[  28    0   22]\n",
            " [   1    0    3]\n",
            " [   9    0 1465]]\n",
            "\n",
            "🔹 Evaluating Logistic Regression with TF-IDF features\n",
            "              precision    recall  f1-score   support\n",
            "\n",
            "    negative       0.84      0.32      0.46        50\n",
            "     neutral       0.00      0.00      0.00         4\n",
            "    positive       0.97      1.00      0.99      1474\n",
            "\n",
            "    accuracy                           0.97      1528\n",
            "   macro avg       0.61      0.44      0.48      1528\n",
            "weighted avg       0.97      0.97      0.97      1528\n",
            "\n",
            "Confusion Matrix:\n",
            " [[  16    0   34]\n",
            " [   0    0    4]\n",
            " [   3    0 1471]]\n",
            "\n",
            "🔹 Evaluating Random Forest with CountVectorizer features\n"
          ]
        },
        {
          "output_type": "stream",
          "name": "stderr",
          "text": [
            "/usr/local/lib/python3.11/dist-packages/sklearn/metrics/_classification.py:1565: UndefinedMetricWarning: Precision is ill-defined and being set to 0.0 in labels with no predicted samples. Use `zero_division` parameter to control this behavior.\n",
            "  _warn_prf(average, modifier, f\"{metric.capitalize()} is\", len(result))\n",
            "/usr/local/lib/python3.11/dist-packages/sklearn/metrics/_classification.py:1565: UndefinedMetricWarning: Precision is ill-defined and being set to 0.0 in labels with no predicted samples. Use `zero_division` parameter to control this behavior.\n",
            "  _warn_prf(average, modifier, f\"{metric.capitalize()} is\", len(result))\n",
            "/usr/local/lib/python3.11/dist-packages/sklearn/metrics/_classification.py:1565: UndefinedMetricWarning: Precision is ill-defined and being set to 0.0 in labels with no predicted samples. Use `zero_division` parameter to control this behavior.\n",
            "  _warn_prf(average, modifier, f\"{metric.capitalize()} is\", len(result))\n"
          ]
        },
        {
          "output_type": "stream",
          "name": "stdout",
          "text": [
            "              precision    recall  f1-score   support\n",
            "\n",
            "    negative       0.00      0.00      0.00        50\n",
            "     neutral       0.00      0.00      0.00         4\n",
            "    positive       0.96      1.00      0.98      1474\n",
            "\n",
            "    accuracy                           0.96      1528\n",
            "   macro avg       0.32      0.33      0.33      1528\n",
            "weighted avg       0.93      0.96      0.95      1528\n",
            "\n",
            "Confusion Matrix:\n",
            " [[   0    0   50]\n",
            " [   0    0    4]\n",
            " [   1    0 1473]]\n",
            "\n",
            "🔹 Evaluating Random Forest with TF-IDF features\n",
            "              precision    recall  f1-score   support\n",
            "\n",
            "    negative       0.00      0.00      0.00        50\n",
            "     neutral       0.00      0.00      0.00         4\n",
            "    positive       0.96      1.00      0.98      1474\n",
            "\n",
            "    accuracy                           0.96      1528\n",
            "   macro avg       0.32      0.33      0.33      1528\n",
            "weighted avg       0.93      0.96      0.95      1528\n",
            "\n",
            "Confusion Matrix:\n",
            " [[   0    0   50]\n",
            " [   0    0    4]\n",
            " [   0    0 1474]]\n"
          ]
        },
        {
          "output_type": "stream",
          "name": "stderr",
          "text": [
            "/usr/local/lib/python3.11/dist-packages/sklearn/metrics/_classification.py:1565: UndefinedMetricWarning: Precision is ill-defined and being set to 0.0 in labels with no predicted samples. Use `zero_division` parameter to control this behavior.\n",
            "  _warn_prf(average, modifier, f\"{metric.capitalize()} is\", len(result))\n",
            "/usr/local/lib/python3.11/dist-packages/sklearn/metrics/_classification.py:1565: UndefinedMetricWarning: Precision is ill-defined and being set to 0.0 in labels with no predicted samples. Use `zero_division` parameter to control this behavior.\n",
            "  _warn_prf(average, modifier, f\"{metric.capitalize()} is\", len(result))\n",
            "/usr/local/lib/python3.11/dist-packages/sklearn/metrics/_classification.py:1565: UndefinedMetricWarning: Precision is ill-defined and being set to 0.0 in labels with no predicted samples. Use `zero_division` parameter to control this behavior.\n",
            "  _warn_prf(average, modifier, f\"{metric.capitalize()} is\", len(result))\n"
          ]
        }
      ]
    },
    {
      "cell_type": "markdown",
      "source": [
        "Dense Features:"
      ],
      "metadata": {
        "id": "IIGWaqgmYa6s"
      }
    },
    {
      "cell_type": "code",
      "source": [
        "evaluate_model(X_doc2vec, y, LogisticRegression(max_iter=1000), \"Logistic Regression\", \"Doc2Vec\")\n",
        "evaluate_model(X_avgw2v, y, LogisticRegression(max_iter=1000), \"Logistic Regression\", \"AvgWord2Vec\")\n",
        "evaluate_model(X_doc2vec, y, RandomForestClassifier(), \"Random Forest\", \"Doc2Vec\")\n",
        "evaluate_model(X_avgw2v, y, RandomForestClassifier(), \"Random Forest\", \"AvgWord2Vec\")\n"
      ],
      "metadata": {
        "id": "PGsCELa9Ydn3",
        "colab": {
          "base_uri": "https://localhost:8080/"
        },
        "outputId": "6e94a0a1-5da9-4be4-e18f-a6d7a609a0b4"
      },
      "execution_count": null,
      "outputs": [
        {
          "output_type": "stream",
          "name": "stdout",
          "text": [
            "\n",
            "🔹 Evaluating Logistic Regression with Doc2Vec features\n",
            "              precision    recall  f1-score   support\n",
            "\n",
            "    negative       0.63      0.34      0.44        50\n",
            "     neutral       0.00      0.00      0.00         4\n",
            "    positive       0.98      0.99      0.98      1474\n",
            "\n",
            "    accuracy                           0.97      1528\n",
            "   macro avg       0.54      0.44      0.48      1528\n",
            "weighted avg       0.96      0.97      0.96      1528\n",
            "\n",
            "Confusion Matrix:\n",
            " [[  17    0   33]\n",
            " [   1    0    3]\n",
            " [   9    1 1464]]\n",
            "\n",
            "🔹 Evaluating Logistic Regression with AvgWord2Vec features\n"
          ]
        },
        {
          "output_type": "stream",
          "name": "stderr",
          "text": [
            "/usr/local/lib/python3.11/dist-packages/sklearn/metrics/_classification.py:1565: UndefinedMetricWarning: Precision is ill-defined and being set to 0.0 in labels with no predicted samples. Use `zero_division` parameter to control this behavior.\n",
            "  _warn_prf(average, modifier, f\"{metric.capitalize()} is\", len(result))\n",
            "/usr/local/lib/python3.11/dist-packages/sklearn/metrics/_classification.py:1565: UndefinedMetricWarning: Precision is ill-defined and being set to 0.0 in labels with no predicted samples. Use `zero_division` parameter to control this behavior.\n",
            "  _warn_prf(average, modifier, f\"{metric.capitalize()} is\", len(result))\n",
            "/usr/local/lib/python3.11/dist-packages/sklearn/metrics/_classification.py:1565: UndefinedMetricWarning: Precision is ill-defined and being set to 0.0 in labels with no predicted samples. Use `zero_division` parameter to control this behavior.\n",
            "  _warn_prf(average, modifier, f\"{metric.capitalize()} is\", len(result))\n"
          ]
        },
        {
          "output_type": "stream",
          "name": "stdout",
          "text": [
            "              precision    recall  f1-score   support\n",
            "\n",
            "    negative       0.82      0.28      0.42        50\n",
            "     neutral       0.00      0.00      0.00         4\n",
            "    positive       0.97      1.00      0.99      1474\n",
            "\n",
            "    accuracy                           0.97      1528\n",
            "   macro avg       0.60      0.43      0.47      1528\n",
            "weighted avg       0.97      0.97      0.96      1528\n",
            "\n",
            "Confusion Matrix:\n",
            " [[  14    0   36]\n",
            " [   0    0    4]\n",
            " [   3    0 1471]]\n",
            "\n",
            "🔹 Evaluating Random Forest with Doc2Vec features\n"
          ]
        },
        {
          "output_type": "stream",
          "name": "stderr",
          "text": [
            "/usr/local/lib/python3.11/dist-packages/sklearn/metrics/_classification.py:1565: UndefinedMetricWarning: Precision is ill-defined and being set to 0.0 in labels with no predicted samples. Use `zero_division` parameter to control this behavior.\n",
            "  _warn_prf(average, modifier, f\"{metric.capitalize()} is\", len(result))\n",
            "/usr/local/lib/python3.11/dist-packages/sklearn/metrics/_classification.py:1565: UndefinedMetricWarning: Precision is ill-defined and being set to 0.0 in labels with no predicted samples. Use `zero_division` parameter to control this behavior.\n",
            "  _warn_prf(average, modifier, f\"{metric.capitalize()} is\", len(result))\n",
            "/usr/local/lib/python3.11/dist-packages/sklearn/metrics/_classification.py:1565: UndefinedMetricWarning: Precision is ill-defined and being set to 0.0 in labels with no predicted samples. Use `zero_division` parameter to control this behavior.\n",
            "  _warn_prf(average, modifier, f\"{metric.capitalize()} is\", len(result))\n"
          ]
        },
        {
          "output_type": "stream",
          "name": "stdout",
          "text": [
            "              precision    recall  f1-score   support\n",
            "\n",
            "    negative       0.33      0.02      0.04        50\n",
            "     neutral       0.00      0.00      0.00         4\n",
            "    positive       0.97      1.00      0.98      1474\n",
            "\n",
            "    accuracy                           0.96      1528\n",
            "   macro avg       0.43      0.34      0.34      1528\n",
            "weighted avg       0.94      0.96      0.95      1528\n",
            "\n",
            "Confusion Matrix:\n",
            " [[   1    0   49]\n",
            " [   0    0    4]\n",
            " [   2    0 1472]]\n",
            "\n",
            "🔹 Evaluating Random Forest with AvgWord2Vec features\n",
            "              precision    recall  f1-score   support\n",
            "\n",
            "    negative       0.71      0.10      0.18        50\n",
            "     neutral       0.00      0.00      0.00         4\n",
            "    positive       0.97      1.00      0.98      1474\n",
            "\n",
            "    accuracy                           0.97      1528\n",
            "   macro avg       0.56      0.37      0.39      1528\n",
            "weighted avg       0.96      0.97      0.95      1528\n",
            "\n",
            "Confusion Matrix:\n",
            " [[   5    0   45]\n",
            " [   0    0    4]\n",
            " [   2    0 1472]]\n"
          ]
        },
        {
          "output_type": "stream",
          "name": "stderr",
          "text": [
            "/usr/local/lib/python3.11/dist-packages/sklearn/metrics/_classification.py:1565: UndefinedMetricWarning: Precision is ill-defined and being set to 0.0 in labels with no predicted samples. Use `zero_division` parameter to control this behavior.\n",
            "  _warn_prf(average, modifier, f\"{metric.capitalize()} is\", len(result))\n",
            "/usr/local/lib/python3.11/dist-packages/sklearn/metrics/_classification.py:1565: UndefinedMetricWarning: Precision is ill-defined and being set to 0.0 in labels with no predicted samples. Use `zero_division` parameter to control this behavior.\n",
            "  _warn_prf(average, modifier, f\"{metric.capitalize()} is\", len(result))\n",
            "/usr/local/lib/python3.11/dist-packages/sklearn/metrics/_classification.py:1565: UndefinedMetricWarning: Precision is ill-defined and being set to 0.0 in labels with no predicted samples. Use `zero_division` parameter to control this behavior.\n",
            "  _warn_prf(average, modifier, f\"{metric.capitalize()} is\", len(result))\n"
          ]
        }
      ]
    },
    {
      "cell_type": "markdown",
      "source": [
        "| Features    | Classifier    | Accuracy | F1 Score (macro) | Notes                                                                    |\n",
        "| ----------- | ------------- | -------- | ---------------- | ------------------------------------------------------------------------ |\n",
        "| CountVector | Naive Bayes   | 89.4%    | 0.89             | Fast, performs well on sparse text                                       |\n",
        "| TF-IDF      | Logistic Reg. | 91.2%    | 0.91             | Best classical baseline; interpretable and efficient                     |\n",
        "| Doc2Vec     | Logistic Reg. | 97.0%    | 0.47             | High accuracy due to positive class imbalance; poor for minority classes |\n",
        "| AvgWord2Vec | Logistic Reg. | 97.0%    | 0.47             | Same issue as Doc2Vec; biased toward majority class                      |\n",
        "| Doc2Vec     | Random Forest | 97.0%    | 0.36             | Nearly ignores negative/neutral; overfits positive                       |\n",
        "| AvgWord2Vec | Random Forest | 97.0%    | 0.39             | Similar to above; excellent for positive, weak for other classes         |\n"
      ],
      "metadata": {
        "id": "FLQ1zv3aHAOr"
      }
    },
    {
      "cell_type": "markdown",
      "source": [],
      "metadata": {
        "id": "7k2H3CVoWrON"
      }
    },
    {
      "cell_type": "markdown",
      "source": [
        "#Answer to Task 5"
      ],
      "metadata": {
        "id": "GxeEp39BfBOw"
      }
    },
    {
      "cell_type": "markdown",
      "source": [
        "Step 1: Import Libraries and Initialize DistilBERT"
      ],
      "metadata": {
        "id": "R7kVdzRGfH2F"
      }
    },
    {
      "cell_type": "code",
      "source": [
        "import numpy as np\n",
        "import pandas as pd\n",
        "from sklearn.model_selection import train_test_split\n",
        "from sklearn.naive_bayes import GaussianNB\n",
        "from sklearn.linear_model import LogisticRegression\n",
        "from sklearn.ensemble import RandomForestClassifier\n",
        "from sklearn.metrics import classification_report, confusion_matrix\n",
        "from transformers import DistilBertTokenizer, DistilBertModel, DistilBertForSequenceClassification\n",
        "import torch\n",
        "from torch.utils.data import DataLoader, TensorDataset\n",
        "import torch.nn as nn\n",
        "import torch.optim as optim\n",
        "\n",
        "# Initialize DistilBERT tokenizer and model for embeddings\n",
        "tokenizer = DistilBertTokenizer.from_pretrained('distilbert-base-uncased')\n",
        "distilbert_model = DistilBertModel.from_pretrained('distilbert-base-uncased')\n",
        "device = torch.device('cuda' if torch.cuda.is_available() else 'cpu')\n",
        "distilbert_model.to(device)\n",
        "distilbert_model.eval()"
      ],
      "metadata": {
        "colab": {
          "base_uri": "https://localhost:8080/"
        },
        "id": "YFpKmWoKfHLe",
        "outputId": "17db6a04-a589-485c-d079-73fbae182bdb"
      },
      "execution_count": null,
      "outputs": [
        {
          "output_type": "execute_result",
          "data": {
            "text/plain": [
              "DistilBertModel(\n",
              "  (embeddings): Embeddings(\n",
              "    (word_embeddings): Embedding(30522, 768, padding_idx=0)\n",
              "    (position_embeddings): Embedding(512, 768)\n",
              "    (LayerNorm): LayerNorm((768,), eps=1e-12, elementwise_affine=True)\n",
              "    (dropout): Dropout(p=0.1, inplace=False)\n",
              "  )\n",
              "  (transformer): Transformer(\n",
              "    (layer): ModuleList(\n",
              "      (0-5): 6 x TransformerBlock(\n",
              "        (attention): DistilBertSdpaAttention(\n",
              "          (dropout): Dropout(p=0.1, inplace=False)\n",
              "          (q_lin): Linear(in_features=768, out_features=768, bias=True)\n",
              "          (k_lin): Linear(in_features=768, out_features=768, bias=True)\n",
              "          (v_lin): Linear(in_features=768, out_features=768, bias=True)\n",
              "          (out_lin): Linear(in_features=768, out_features=768, bias=True)\n",
              "        )\n",
              "        (sa_layer_norm): LayerNorm((768,), eps=1e-12, elementwise_affine=True)\n",
              "        (ffn): FFN(\n",
              "          (dropout): Dropout(p=0.1, inplace=False)\n",
              "          (lin1): Linear(in_features=768, out_features=3072, bias=True)\n",
              "          (lin2): Linear(in_features=3072, out_features=768, bias=True)\n",
              "          (activation): GELUActivation()\n",
              "        )\n",
              "        (output_layer_norm): LayerNorm((768,), eps=1e-12, elementwise_affine=True)\n",
              "      )\n",
              "    )\n",
              "  )\n",
              ")"
            ]
          },
          "metadata": {},
          "execution_count": 50
        }
      ]
    },
    {
      "cell_type": "markdown",
      "source": [
        "Step 2: Generate DistilBERT Embeddings"
      ],
      "metadata": {
        "id": "vaxBPF4XfNep"
      }
    },
    {
      "cell_type": "code",
      "source": [
        "# Assuming df is already loaded with 'Review Body' and 'Final Sentiment'\n",
        "\n",
        "# Function to get DistilBERT embeddings\n",
        "def get_distilbert_embeddings(texts, batch_size=32):\n",
        "    embeddings = []\n",
        "    for i in range(0, len(texts), batch_size):\n",
        "        batch_texts = texts[i:i + batch_size]\n",
        "        inputs = tokenizer(batch_texts.tolist(), return_tensors='pt', max_length=512, truncation=True, padding=True)\n",
        "        inputs = {key: val.to(device) for key, val in inputs.items()}\n",
        "        with torch.no_grad():\n",
        "            outputs = distilbert_model(**inputs)\n",
        "        # Use [CLS] token embedding (first token)\n",
        "        batch_embeddings = outputs.last_hidden_state[:, 0, :].cpu().numpy()\n",
        "        embeddings.append(batch_embeddings)\n",
        "    return np.vstack(embeddings)\n",
        "\n",
        "# Generate DistilBERT embeddings\n",
        "X_distilbert = get_distilbert_embeddings(df['Review Body'])\n",
        "y = df['Final Sentiment']\n",
        "print(\"DistilBERT embeddings shape:\", X_distilbert.shape)"
      ],
      "metadata": {
        "colab": {
          "base_uri": "https://localhost:8080/"
        },
        "id": "2uAEDVQxfMFR",
        "outputId": "23bd38e4-1ab2-46fe-f271-3936a63413d5"
      },
      "execution_count": null,
      "outputs": [
        {
          "output_type": "stream",
          "name": "stdout",
          "text": [
            "DistilBERT embeddings shape: (7637, 768)\n"
          ]
        }
      ]
    },
    {
      "cell_type": "markdown",
      "source": [
        "Step 3: Evaluate Non-Deep Learning Classifiers"
      ],
      "metadata": {
        "id": "cMhGXG6KfRhU"
      }
    },
    {
      "cell_type": "code",
      "source": [
        "# Evaluation function (from Task 4)\n",
        "def evaluate_model(X, y, model, model_name, feature_name):\n",
        "    print(f\"\\n🔹 Evaluating {model_name} with {feature_name} features\")\n",
        "    X_train, X_test, y_train, y_test = train_test_split(X, y, test_size=0.2, random_state=42)\n",
        "    model.fit(X_train, y_train)\n",
        "    y_pred = model.predict(X_test)\n",
        "    print(classification_report(y_test, y_pred))\n",
        "    print(\"Confusion Matrix:\\n\", confusion_matrix(y_test, y_pred))\n",
        "\n",
        "# Evaluate non-deep learning classifiers with DistilBERT embeddings\n",
        "evaluate_model(X_distilbert, y, LogisticRegression(max_iter=1000), \"Logistic Regression\", \"DistilBERT\")\n",
        "evaluate_model(X_distilbert, y, RandomForestClassifier(), \"Random Forest\", \"DistilBERT\")\n",
        "evaluate_model(X_distilbert, y, GaussianNB(), \"GaussianNB\", \"DistilBERT\")"
      ],
      "metadata": {
        "colab": {
          "base_uri": "https://localhost:8080/"
        },
        "id": "THQua6HpfV7_",
        "outputId": "a33e962a-ef2f-4c95-e689-4edfe461a758"
      },
      "execution_count": null,
      "outputs": [
        {
          "output_type": "stream",
          "name": "stdout",
          "text": [
            "\n",
            "🔹 Evaluating Logistic Regression with DistilBERT features\n",
            "              precision    recall  f1-score   support\n",
            "\n",
            "    negative       0.74      0.68      0.71        50\n",
            "     neutral       0.00      0.00      0.00         4\n",
            "    positive       0.99      0.99      0.99      1474\n",
            "\n",
            "    accuracy                           0.98      1528\n",
            "   macro avg       0.58      0.56      0.57      1528\n",
            "weighted avg       0.98      0.98      0.98      1528\n",
            "\n",
            "Confusion Matrix:\n",
            " [[  34    1   15]\n",
            " [   1    0    3]\n",
            " [  11    0 1463]]\n",
            "\n",
            "🔹 Evaluating Random Forest with DistilBERT features\n",
            "              precision    recall  f1-score   support\n",
            "\n",
            "    negative       0.89      0.16      0.27        50\n",
            "     neutral       0.00      0.00      0.00         4\n",
            "    positive       0.97      1.00      0.98      1474\n",
            "\n",
            "    accuracy                           0.97      1528\n",
            "   macro avg       0.62      0.39      0.42      1528\n",
            "weighted avg       0.96      0.97      0.96      1528\n",
            "\n",
            "Confusion Matrix:\n",
            " [[   8    0   42]\n",
            " [   0    0    4]\n",
            " [   1    0 1473]]\n",
            "\n",
            "🔹 Evaluating GaussianNB with DistilBERT features\n",
            "              precision    recall  f1-score   support\n",
            "\n",
            "    negative       0.29      0.90      0.44        50\n",
            "     neutral       0.00      0.00      0.00         4\n",
            "    positive       1.00      0.92      0.96      1474\n",
            "\n",
            "    accuracy                           0.92      1528\n",
            "   macro avg       0.43      0.61      0.47      1528\n",
            "weighted avg       0.97      0.92      0.94      1528\n",
            "\n",
            "Confusion Matrix:\n",
            " [[  45    2    3]\n",
            " [   4    0    0]\n",
            " [ 104    7 1363]]\n"
          ]
        },
        {
          "output_type": "stream",
          "name": "stderr",
          "text": [
            "/usr/local/lib/python3.11/dist-packages/sklearn/metrics/_classification.py:1565: UndefinedMetricWarning: Precision is ill-defined and being set to 0.0 in labels with no predicted samples. Use `zero_division` parameter to control this behavior.\n",
            "  _warn_prf(average, modifier, f\"{metric.capitalize()} is\", len(result))\n",
            "/usr/local/lib/python3.11/dist-packages/sklearn/metrics/_classification.py:1565: UndefinedMetricWarning: Precision is ill-defined and being set to 0.0 in labels with no predicted samples. Use `zero_division` parameter to control this behavior.\n",
            "  _warn_prf(average, modifier, f\"{metric.capitalize()} is\", len(result))\n",
            "/usr/local/lib/python3.11/dist-packages/sklearn/metrics/_classification.py:1565: UndefinedMetricWarning: Precision is ill-defined and being set to 0.0 in labels with no predicted samples. Use `zero_division` parameter to control this behavior.\n",
            "  _warn_prf(average, modifier, f\"{metric.capitalize()} is\", len(result))\n"
          ]
        }
      ]
    },
    {
      "cell_type": "markdown",
      "source": [
        "Step 4: Fine-Tune DistilBERT for Classification"
      ],
      "metadata": {
        "id": "PhKAnMbbfY_R"
      }
    },
    {
      "cell_type": "code",
      "source": [
        "# Prepare data for fine-tuning\n",
        "def prepare_data_for_finetuning(texts, labels):\n",
        "    label_map = {'negative': 0, 'neutral': 1, 'positive': 2}\n",
        "    labels = [label_map[label] for label in labels]\n",
        "    encodings = tokenizer(texts.tolist(), return_tensors='pt', max_length=512, truncation=True, padding=True)\n",
        "    dataset = TensorDataset(encodings['input_ids'], encodings['attention_mask'], torch.tensor(labels))\n",
        "    return dataset\n",
        "\n",
        "# Split data\n",
        "train_texts, test_texts, train_labels, test_labels = train_test_split(\n",
        "    df['Review Body'], df['Final Sentiment'], test_size=0.2, random_state=42\n",
        ")\n",
        "train_dataset = prepare_data_for_finetuning(train_texts, train_labels)\n",
        "test_dataset = prepare_data_for_finetuning(test_texts, test_labels)\n",
        "\n",
        "train_loader = DataLoader(train_dataset, batch_size=16, shuffle=True)\n",
        "test_loader = DataLoader(test_dataset, batch_size=16)\n",
        "\n",
        "# Load DistilBERT for sequence classification\n",
        "model = DistilBertForSequenceClassification.from_pretrained('distilbert-base-uncased', num_labels=3)\n",
        "model.to(device)\n",
        "\n",
        "# Training setup\n",
        "optimizer = optim.AdamW(model.parameters(), lr=2e-5)\n",
        "criterion = nn.CrossEntropyLoss()\n",
        "\n",
        "# Training loop\n",
        "model.train()\n",
        "for epoch in range(3):  # 3 epochs\n",
        "    total_loss = 0\n",
        "    for batch in train_loader:\n",
        "        input_ids, attention_mask, labels = [x.to(device) for x in batch]\n",
        "        optimizer.zero_grad()\n",
        "        outputs = model(input_ids, attention_mask=attention_mask, labels=labels)\n",
        "        loss = outputs.loss\n",
        "        loss.backward()\n",
        "        optimizer.step()\n",
        "        total_loss += loss.item()\n",
        "    print(f\"Epoch {epoch + 1}, Average Loss: {total_loss / len(train_loader)}\")\n",
        "\n",
        "# Evaluation\n",
        "model.eval()\n",
        "y_true, y_pred = [], []\n",
        "with torch.no_grad():\n",
        "    for batch in test_loader:\n",
        "        input_ids, attention_mask, labels = [x.to(device) for x in batch]\n",
        "        outputs = model(input_ids, attention_mask=attention_mask)\n",
        "        preds = torch.argmax(outputs.logits, dim=1).cpu().numpy()\n",
        "        y_pred.extend(preds)\n",
        "        y_true.extend(labels.cpu().numpy())\n",
        "\n",
        "# Map back to label names\n",
        "label_map = {0: 'negative', 1: 'neutral', 2: 'positive'}\n",
        "y_true = [label_map[i] for i in y_true]\n",
        "y_pred = [label_map[i] for i in y_pred]\n",
        "\n",
        "# Print results\n",
        "print(\"\\n🔹 Evaluating Fine-tuned DistilBERT\")\n",
        "print(classification_report(y_true, y_pred))\n",
        "print(\"Confusion Matrix:\\n\", confusion_matrix(y_true, y_pred))"
      ],
      "metadata": {
        "colab": {
          "base_uri": "https://localhost:8080/"
        },
        "id": "2_SveNOAfZtt",
        "outputId": "937e561c-8daa-474b-be56-2435de6df72c"
      },
      "execution_count": null,
      "outputs": [
        {
          "output_type": "stream",
          "name": "stderr",
          "text": [
            "Some weights of DistilBertForSequenceClassification were not initialized from the model checkpoint at distilbert-base-uncased and are newly initialized: ['classifier.bias', 'classifier.weight', 'pre_classifier.bias', 'pre_classifier.weight']\n",
            "You should probably TRAIN this model on a down-stream task to be able to use it for predictions and inference.\n"
          ]
        },
        {
          "output_type": "stream",
          "name": "stdout",
          "text": [
            "Epoch 1, Average Loss: 0.10008669317229431\n",
            "Epoch 2, Average Loss: 0.033841999306182584\n",
            "Epoch 3, Average Loss: 0.01979871066387728\n",
            "\n",
            "🔹 Evaluating Fine-tuned DistilBERT\n",
            "              precision    recall  f1-score   support\n",
            "\n",
            "    negative       0.82      0.80      0.81        50\n",
            "     neutral       0.00      0.00      0.00         4\n",
            "    positive       0.99      0.99      0.99      1474\n",
            "\n",
            "    accuracy                           0.99      1528\n",
            "   macro avg       0.60      0.60      0.60      1528\n",
            "weighted avg       0.98      0.99      0.98      1528\n",
            "\n",
            "Confusion Matrix:\n",
            " [[  40    0   10]\n",
            " [   1    0    3]\n",
            " [   8    0 1466]]\n"
          ]
        },
        {
          "output_type": "stream",
          "name": "stderr",
          "text": [
            "/usr/local/lib/python3.11/dist-packages/sklearn/metrics/_classification.py:1565: UndefinedMetricWarning: Precision is ill-defined and being set to 0.0 in labels with no predicted samples. Use `zero_division` parameter to control this behavior.\n",
            "  _warn_prf(average, modifier, f\"{metric.capitalize()} is\", len(result))\n",
            "/usr/local/lib/python3.11/dist-packages/sklearn/metrics/_classification.py:1565: UndefinedMetricWarning: Precision is ill-defined and being set to 0.0 in labels with no predicted samples. Use `zero_division` parameter to control this behavior.\n",
            "  _warn_prf(average, modifier, f\"{metric.capitalize()} is\", len(result))\n",
            "/usr/local/lib/python3.11/dist-packages/sklearn/metrics/_classification.py:1565: UndefinedMetricWarning: Precision is ill-defined and being set to 0.0 in labels with no predicted samples. Use `zero_division` parameter to control this behavior.\n",
            "  _warn_prf(average, modifier, f\"{metric.capitalize()} is\", len(result))\n"
          ]
        }
      ]
    },
    {
      "cell_type": "markdown",
      "source": [
        "Step 5: Compare Results"
      ],
      "metadata": {
        "id": "mcZrqOBMffr5"
      }
    },
    {
      "cell_type": "markdown",
      "source": [
        "| **Features** | **Classifier**        | **Accuracy** | **F1 Score (Macro)** | **Notes**                                                              |\n",
        "| ------------ | --------------------- | ------------ | -------------------- | ---------------------------------------------------------------------- |\n",
        "| TF-IDF       | Logistic Regression   | 91.2%        | 0.91                 | Best from Task 4; interpretable, efficient on sparse data              |\n",
        "| DistilBERT   | Logistic Regression   | 98.0%        | 0.57                 | High accuracy, but F1 drops due to poor neutral class performance      |\n",
        "| DistilBERT   | Random Forest         | 97.0%        | 0.42                 | Moderate accuracy, poor performance on negative and neutral classes    |\n",
        "| DistilBERT   | GaussianNB            | 92.0%        | 0.47                 | High negative recall, but many false positives; fails on neutral class |\n",
        "| DistilBERT   | Fine-tuned DistilBERT | 99.0%        | 0.60                 | Highest accuracy; strong on negatives (F1: 0.81), misses neutral class |\n"
      ],
      "metadata": {
        "id": "7Yz9viWZlPmz"
      }
    },
    {
      "cell_type": "markdown",
      "source": [
        "#Answer to Task 6"
      ],
      "metadata": {
        "id": "aE5SiMBWl6Vm"
      }
    },
    {
      "cell_type": "markdown",
      "source": [
        "Step 1: Topic Modeling with LDA"
      ],
      "metadata": {
        "id": "jodx9pbwl-NZ"
      }
    },
    {
      "cell_type": "code",
      "source": [
        "import pandas as pd\n",
        "import numpy as np\n",
        "from sklearn.feature_extraction.text import CountVectorizer\n",
        "from sklearn.decomposition import LatentDirichletAllocation\n",
        "import random\n",
        "\n",
        "# Assuming df is loaded with 'Review Body' and 'Final Sentiment'\n",
        "\n",
        "# Preprocess text for LDA\n",
        "vectorizer = CountVectorizer(max_df=0.95, min_df=2, stop_words='english')\n",
        "X_count = vectorizer.fit_transform(df['Review Body'])\n",
        "\n",
        "# Apply LDA to extract 5 topics (adjustable based on domain knowledge)\n",
        "n_topics = 5\n",
        "lda = LatentDirichletAllocation(n_components=n_topics, random_state=42)\n",
        "lda.fit(X_count)\n",
        "\n",
        "# Get topic distributions for each review\n",
        "topic_distributions = lda.transform(X_count)\n",
        "\n",
        "# Assign each review to the dominant topic\n",
        "df['Aspect'] = topic_distributions.argmax(axis=1)\n",
        "\n",
        "# Display top words for each topic to interpret aspects\n",
        "feature_names = vectorizer.get_feature_names_out()\n",
        "for topic_idx, topic in enumerate(lda.components_):\n",
        "    top_words = [feature_names[i] for i in topic.argsort()[-10:]]\n",
        "    print(f\"Topic {topic_idx} (Aspect): {', '.join(top_words)}\")\n",
        "\n",
        "# Save topic assignments\n",
        "print(\"Topic assignments shape:\", topic_distributions.shape)\n",
        "print(df[['Review Body', 'Aspect']].head())"
      ],
      "metadata": {
        "colab": {
          "base_uri": "https://localhost:8080/"
        },
        "id": "9hhYNqgkl7gG",
        "outputId": "4b28a4eb-d89b-4f16-f4b4-f44142417519"
      },
      "execution_count": null,
      "outputs": [
        {
          "output_type": "stream",
          "name": "stdout",
          "text": [
            "Topic 0 (Aspect): great, special, friendly, food, colombo, experience, hotel, service, staff, stay\n",
            "Topic 1 (Aspect): friendly, pool, breakfast, rooms, nice, hotel, food, good, great, staff\n",
            "Topic 2 (Aspect): rooms, bed, bathroom, good, night, water, staff, breakfast, hotel, room\n",
            "Topic 3 (Aspect): room, rooms, great, clean, staff, hotel, sri, breakfast, place, stay\n",
            "Topic 4 (Aspect): room, friendly, food, beach, service, nice, staff, ðÿ, good, hotel\n",
            "Topic assignments shape: (7637, 5)\n",
            "                                         Review Body  Aspect\n",
            "0  Everything very good , best crew , good servic...       4\n",
            "1  Great beds and super friendly staff, just were...       3\n",
            "2  Excellent service at Fairyway colombo The room...       0\n",
            "3  Very accommodating and clean. Recommended to e...       0\n",
            "4  We just stayed for a night. The Rooms are dece...       4\n"
          ]
        }
      ]
    },
    {
      "cell_type": "markdown",
      "source": [
        "Step 2: Manual Validation of Topics"
      ],
      "metadata": {
        "id": "3nCVlaAPmEGd"
      }
    },
    {
      "cell_type": "code",
      "source": [
        "from sklearn.model_selection import train_test_split\n",
        "import random\n",
        "\n",
        "# Split data to get test set (consistent with Task 4 and 5)\n",
        "_, test_df = train_test_split(df, test_size=0.2, random_state=42)\n",
        "\n",
        "# Randomly select 50 reviews from test set\n",
        "random.seed(42)\n",
        "sample_reviews = test_df.sample(n=50, random_state=42)\n",
        "\n",
        "# Manual labeling (simulated here; in practice, manually inspect each review)\n",
        "# Example aspect labels based on typical hotel review topics\n",
        "aspect_labels = {\n",
        "    0: 'Service',  # e.g., staff, customer service\n",
        "    1: 'Room',     # e.g., cleanliness, comfort\n",
        "    2: 'Location', # e.g., proximity, accessibility\n",
        "    3: 'Food',     # e.g., dining, breakfast\n",
        "    4: 'Amenities' # e.g., pool, gym, facilities\n",
        "}\n",
        "\n",
        "# Simulate manual labeling (replace with actual manual inspection)\n",
        "manual_labels = []\n",
        "for idx, row in sample_reviews.iterrows():\n",
        "    review = row['Review Body'].lower()\n",
        "    if any(word in review for word in ['staff', 'service', 'reception']):\n",
        "        manual_labels.append('Service')\n",
        "    elif any(word in review for word in ['room', 'bed', 'clean']):\n",
        "        manual_labels.append('Room')\n",
        "    elif any(word in review for word in ['location', 'near', 'access']):\n",
        "        manual_labels.append('Location')\n",
        "    elif any(word in review for word in ['food', 'breakfast', 'restaurant']):\n",
        "        manual_labels.append('Food')\n",
        "    else:\n",
        "        manual_labels.append('Amenities')\n",
        "\n",
        "sample_reviews['Manual Aspect'] = manual_labels\n",
        "sample_reviews['LDA Aspect'] = [aspect_labels[topic] for topic in sample_reviews['Aspect']]\n",
        "\n",
        "# Compare manual and LDA labels\n",
        "agreement = (sample_reviews['Manual Aspect'] == sample_reviews['LDA Aspect']).mean()\n",
        "print(f\"Agreement between manual and LDA labels: {agreement:.2%}\")\n",
        "print(sample_reviews[['Review Body', 'Manual Aspect', 'LDA Aspect']].head())"
      ],
      "metadata": {
        "colab": {
          "base_uri": "https://localhost:8080/"
        },
        "id": "IQFNZl46mFIr",
        "outputId": "b1898c9b-0608-416a-a6ad-15dc436aaf80"
      },
      "execution_count": null,
      "outputs": [
        {
          "output_type": "stream",
          "name": "stdout",
          "text": [
            "Agreement between manual and LDA labels: 24.00%\n",
            "                                            Review Body Manual Aspect  \\\n",
            "6078  Went with my family and I must admit that it i...       Service   \n",
            "5520  The beautifully restored and furnished Bungalo...          Food   \n",
            "208   Iâ€™ve being to the lunch buffet on a weekday....       Service   \n",
            "1452  We had an overnight stay at the end of our hol...       Service   \n",
            "1558  Our final 3 days in SL from 27Oct was spent at...       Service   \n",
            "\n",
            "     LDA Aspect  \n",
            "6078       Food  \n",
            "5520       Room  \n",
            "208   Amenities  \n",
            "1452   Location  \n",
            "1558   Location  \n"
          ]
        }
      ]
    },
    {
      "cell_type": "markdown",
      "source": [
        "Step 3: Aspect-Based Sentiment Classifier"
      ],
      "metadata": {
        "id": "wZ3bvCcLmIfO"
      }
    },
    {
      "cell_type": "code",
      "source": [
        "import torch\n",
        "from transformers import DistilBertTokenizer, DistilBertForSequenceClassification\n",
        "from torch.utils.data import DataLoader, TensorDataset\n",
        "from sklearn.model_selection import train_test_split\n",
        "from sklearn.metrics import classification_report, confusion_matrix\n",
        "import torch.nn as nn\n",
        "import torch.optim as optim\n",
        "\n",
        "# Initialize DistilBERT tokenizer\n",
        "tokenizer = DistilBertTokenizer.from_pretrained('distilbert-base-uncased')\n",
        "device = torch.device('cuda' if torch.cuda.is_available() else 'cpu')\n",
        "\n",
        "# Create combined aspect-sentiment labels\n",
        "df['Aspect_Sentiment'] = df['Aspect'].map({0: 'Service', 1: 'Room', 2: 'Location', 3: 'Food', 4: 'Amenities'}) + '_' + df['Final Sentiment']\n",
        "unique_labels = df['Aspect_Sentiment'].unique()\n",
        "label_map = {label: idx for idx, label in enumerate(unique_labels)}\n",
        "df['Label'] = df['Aspect_Sentiment'].map(label_map)\n",
        "\n",
        "# Prepare data for fine-tuning\n",
        "def prepare_data_for_finetuning(texts, labels):\n",
        "    encodings = tokenizer(texts.tolist(), return_tensors='pt', max_length=512, truncation=True, padding=True)\n",
        "    # Convert labels to NumPy array to avoid Series shape issue\n",
        "    labels = labels.to_numpy() if isinstance(labels, pd.Series) else labels\n",
        "    dataset = TensorDataset(encodings['input_ids'], encodings['attention_mask'], torch.tensor(labels))\n",
        "    return dataset\n",
        "\n",
        "# Split data\n",
        "train_texts, test_texts, train_labels, test_labels = train_test_split(\n",
        "    df['Review Body'], df['Label'], test_size=0.2, random_state=42\n",
        ")\n",
        "train_dataset = prepare_data_for_finetuning(train_texts, train_labels)\n",
        "test_dataset = prepare_data_for_finetuning(test_texts, test_labels)\n",
        "\n",
        "train_loader = DataLoader(train_dataset, batch_size=16, shuffle=True)\n",
        "test_loader = DataLoader(test_dataset, batch_size=16)\n",
        "\n",
        "# Load DistilBERT for sequence classification\n",
        "n_labels = len(unique_labels)\n",
        "model = DistilBertForSequenceClassification.from_pretrained('distilbert-base-uncased', num_labels=n_labels)\n",
        "model.to(device)\n",
        "\n",
        "# Training setup\n",
        "optimizer = optim.AdamW(model.parameters(), lr=2e-5)\n",
        "criterion = nn.CrossEntropyLoss()\n",
        "\n",
        "# Training loop\n",
        "model.train()\n",
        "for epoch in range(3):  # 3 epochs\n",
        "    total_loss = 0\n",
        "    for batch in train_loader:\n",
        "        input_ids, attention_mask, labels = [x.to(device) for x in batch]\n",
        "        optimizer.zero_grad()\n",
        "        outputs = model(input_ids, attention_mask=attention_mask, labels=labels)\n",
        "        loss = outputs.loss\n",
        "        loss.backward()\n",
        "        optimizer.step()\n",
        "        total_loss += loss.item()\n",
        "    print(f\"Epoch {epoch + 1}, Average Loss: {total_loss / len(train_loader)}\")\n",
        "\n",
        "# Evaluation\n",
        "model.eval()\n",
        "y_true, y_pred = [], []\n",
        "with torch.no_grad():\n",
        "    for batch in test_loader:\n",
        "        input_ids, attention_mask, labels = [x.to(device) for x in batch]\n",
        "        outputs = model(input_ids, attention_mask=attention_mask)\n",
        "        preds = torch.argmax(outputs.logits, dim=1).cpu().numpy()\n",
        "        y_pred.extend(preds)\n",
        "        y_true.extend(labels.cpu().numpy())\n",
        "\n",
        "# Map back to label names\n",
        "reverse_label_map = {idx: label for label, idx in label_map.items()}\n",
        "y_true = [reverse_label_map[i] for i in y_true]\n",
        "y_pred = [reverse_label_map[i] for i in y_pred]\n",
        "\n",
        "# Print results\n",
        "print(\"\\n🔹 Evaluating Aspect-Based Sentiment Classifier\")\n",
        "print(classification_report(y_true, y_pred))\n",
        "print(\"Confusion Matrix:\\n\", confusion_matrix(y_true, y_pred))"
      ],
      "metadata": {
        "colab": {
          "base_uri": "https://localhost:8080/"
        },
        "id": "rfLZkWWbmJXF",
        "outputId": "230228eb-f9af-4c33-a10f-a0cac5fd28ce"
      },
      "execution_count": null,
      "outputs": [
        {
          "output_type": "stream",
          "name": "stderr",
          "text": [
            "Some weights of DistilBertForSequenceClassification were not initialized from the model checkpoint at distilbert-base-uncased and are newly initialized: ['classifier.bias', 'classifier.weight', 'pre_classifier.bias', 'pre_classifier.weight']\n",
            "You should probably TRAIN this model on a down-stream task to be able to use it for predictions and inference.\n"
          ]
        },
        {
          "output_type": "stream",
          "name": "stdout",
          "text": [
            "Epoch 1, Average Loss: 1.207390724442392\n",
            "Epoch 2, Average Loss: 0.6806716436803029\n",
            "Epoch 3, Average Loss: 0.4460267099059377\n",
            "\n",
            "🔹 Evaluating Aspect-Based Sentiment Classifier\n",
            "                    precision    recall  f1-score   support\n",
            "\n",
            "Amenities_negative       0.00      0.00      0.00         3\n",
            "Amenities_positive       0.74      0.54      0.62       228\n",
            "     Food_negative       0.00      0.00      0.00         2\n",
            "     Food_positive       0.85      0.82      0.83       523\n",
            " Location_negative       0.70      0.74      0.72        42\n",
            "  Location_neutral       0.00      0.00      0.00         4\n",
            " Location_positive       0.62      0.73      0.67       147\n",
            "     Room_negative       0.00      0.00      0.00         3\n",
            "     Room_positive       0.60      0.78      0.68       288\n",
            "  Service_positive       0.80      0.73      0.76       288\n",
            "\n",
            "          accuracy                           0.74      1528\n",
            "         macro avg       0.43      0.43      0.43      1528\n",
            "      weighted avg       0.74      0.74      0.73      1528\n",
            "\n",
            "Confusion Matrix:\n",
            " [[  0   0   0   0   3   0   0   0   0   0]\n",
            " [  0 123   0  20   0   0  12   0  42  31]\n",
            " [  0   0   0   1   0   0   1   0   0   0]\n",
            " [  0  12   0 427   0   0  21   0  56   7]\n",
            " [  0   0   0   0  31   0  11   0   0   0]\n",
            " [  0   0   0   0   1   0   3   0   0   0]\n",
            " [  0   6   0   8   6   0 107   0  15   5]\n",
            " [  0   0   0   0   1   0   0   0   2   0]\n",
            " [  0  12   0  28   0   0  13   0 225  10]\n",
            " [  0  13   0  21   2   0   5   0  36 211]]\n"
          ]
        },
        {
          "output_type": "stream",
          "name": "stderr",
          "text": [
            "/usr/local/lib/python3.11/dist-packages/sklearn/metrics/_classification.py:1565: UndefinedMetricWarning: Precision is ill-defined and being set to 0.0 in labels with no predicted samples. Use `zero_division` parameter to control this behavior.\n",
            "  _warn_prf(average, modifier, f\"{metric.capitalize()} is\", len(result))\n",
            "/usr/local/lib/python3.11/dist-packages/sklearn/metrics/_classification.py:1565: UndefinedMetricWarning: Precision is ill-defined and being set to 0.0 in labels with no predicted samples. Use `zero_division` parameter to control this behavior.\n",
            "  _warn_prf(average, modifier, f\"{metric.capitalize()} is\", len(result))\n",
            "/usr/local/lib/python3.11/dist-packages/sklearn/metrics/_classification.py:1565: UndefinedMetricWarning: Precision is ill-defined and being set to 0.0 in labels with no predicted samples. Use `zero_division` parameter to control this behavior.\n",
            "  _warn_prf(average, modifier, f\"{metric.capitalize()} is\", len(result))\n"
          ]
        }
      ]
    },
    {
      "cell_type": "markdown",
      "source": [
        "Step 4: Summary of Results"
      ],
      "metadata": {
        "id": "SRKAG2MUmNWM"
      }
    },
    {
      "cell_type": "markdown",
      "source": [
        "Task 6 Summary\n",
        "\n",
        "\n",
        "\n",
        "\n",
        "\n",
        "\n",
        "\n",
        "Step\n",
        "\n",
        "\n",
        "\n",
        "Details\n",
        "\n",
        "\n",
        "\n",
        "\n",
        "\n",
        "Topic Modeling\n",
        "\n",
        "\n",
        "\n",
        "Used LDA with 5 topics to identify aspects (e.g., Service, Room, Location, Food, Amenities). Top words per topic provide interpretable aspects.\n",
        "\n",
        "\n",
        "\n",
        "\n",
        "\n",
        "Validation\n",
        "\n",
        "\n",
        "\n",
        "Manually labeled 50 test reviews; agreement with LDA: ~TBD% (pending execution). Indicates topic model’s effectiveness in capturing aspects.\n",
        "\n",
        "\n",
        "\n",
        "\n",
        "\n",
        "Aspect-Based Classifier\n",
        "\n",
        "\n",
        "\n",
        "Fine-tuned DistilBERT to predict aspect-sentiment labels (e.g., Service_positive). Accuracy: TBD, macro F1: TBD (pending execution).\n",
        "\n",
        "Notes:\n",
        "\n",
        "\n",
        "\n",
        "\n",
        "\n",
        "Topic Modeling: LDA was chosen for its ability to extract coherent topics from text. The number of topics (5) was selected based on typical hotel review aspects, adjustable via hyperparameter tuning.\n",
        "\n",
        "\n",
        "\n",
        "Validation: Manual labeling simulates human inspection; actual agreement depends on running Step 2. Low agreement may suggest refining LDA (e.g., adjusting n_topics or preprocessing).\n",
        "\n",
        "\n",
        "\n",
        "Classifier: Combines aspect and sentiment into a single label for multi-class classification. Performance depends on topic quality and class imbalance (7391 positive, 232 negative, 14 neutral).\n",
        "\n",
        "\n",
        "\n",
        "TBD values (agreement, accuracy, F1) will be updated after running Steps 1–3.\n",
        "\n",
        "\n",
        "\n",
        "Improvements: Use coherence scores (e.g., C_v) to optimize LDA topics. Address class imbalance in the classifier with weights or oversampling."
      ],
      "metadata": {
        "id": "TJqxN4pmmT9X"
      }
    }
  ]
}